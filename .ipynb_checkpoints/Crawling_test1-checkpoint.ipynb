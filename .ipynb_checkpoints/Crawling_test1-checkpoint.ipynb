{
 "cells": [
  {
   "cell_type": "markdown",
   "metadata": {},
   "source": [
    "# --------------------------연령대별 실시간 검색어 TOP 20  수집------------------------"
   ]
  },
  {
   "cell_type": "code",
   "execution_count": 2,
   "metadata": {},
   "outputs": [],
   "source": [
    "import requests as req\n",
    "from bs4 import BeautifulSoup as bs"
   ]
  },
  {
   "cell_type": "code",
   "execution_count": 3,
   "metadata": {
    "scrolled": true
   },
   "outputs": [
    {
     "data": {
      "text/plain": [
       "<!DOCTYPE HTML>\n",
       "<html lang=\"ko\">\n",
       "<head>\n",
       "<meta content=\"text/html; charset=utf-8\" http-equiv=\"Content-Type\"/>\n",
       "<meta content=\"width=device-width,initial-scale=1.0,maximum-scale=1.0,minimum-scale=1.0,user-scalable=no\" name=\"viewport\"/>\n",
       "<meta content=\"네이버 :: 서비스에 접속할 수 없습니다.\" lang=\"ko\" name=\"description\"/>\n",
       "<title>[접근 오류] 서비스에 접속할 수 없습니다.</title>\n",
       "<style type=\"text/css\">\n",
       "        /* PC */\n",
       "        body,p,h1,h2,h3,h4,h5,h6,ul,ol,li,dl,dt,dd,table,th,td,form,fieldset,legend,input,textarea,button,select{margin:0;padding:0}\n",
       "        body,input,textarea,select,button,table{font-size:12px;font-family:'굴림',Gulim,helvetica,sans-serif;color:#424242}\n",
       "        body,html{height:100%}\n",
       "        img,fieldset{border:0}\n",
       "        img{vertical-align:middle}\n",
       "        ul,ol{list-style:none}\n",
       "        em,address{font-style:normal}\n",
       "        a{color:#000;text-decoration:none}\n",
       "        legend{display:none}\n",
       "        hr{display:none !important}\n",
       "        #u_skip{position:relative;width:100%;z-index:10}\n",
       "        #u_skip a{position:absolute;top:-40px;left:0;width:auto;padding:0 10px;border:1px solid #4ec53d;background-color:#000;color:#fff;line-height:38px;white-space:nowrap;opacity:0;-webkit-transition:0.3s;transition:0.3s}\n",
       "        #u_skip a:active, #u_skip a:focus{top:0;text-decoration:none;opacity:1}\n",
       "        .wrap{width:600px;margin:0 auto}\n",
       "        .header{overflow:hidden;padding-top:30px}\n",
       "        .header .logo{float:left}\n",
       "        .header .logo .logo_link{display:inline-block;vertical-align:top}\n",
       "        .header .logo .logo_link img{width:90px;height:16px}\n",
       "        .header .nav{float:right;margin-top:9px}\n",
       "        .header .nav .nav_link:hover{text-decoration:underline}\n",
       "        .header .nav .nav_link+.nav_link:before{content:'';display:inline-block;width:1px;height:10px;margin:0 9px 0 5px;background-color:#d6d6d6;vertical-align:0}\n",
       "        .container{margin-top:66px}\n",
       "        .container .content{overflow:hidden}\n",
       "        .container .image_area{float:right;width:280px}\n",
       "        .container .image_area .image_link{display:block}\n",
       "        .container .image_area .image_author{overflow:hidden;display:block;text-align:center;white-space:nowrap;text-overflow:ellipsis;font-size:12px;line-height:17px;color:#8f8f8f}\n",
       "        .container .image_area+.info_area{overflow:hidden;text-align:left}\n",
       "        .container .info_area{margin-bottom:26px;text-align:center}\n",
       "        .container .info_area .info_txt{margin-top:29px}\n",
       "        .container .info_area .info_txt .tit{font-size:22px;line-height:25px}\n",
       "        .container .info_area .info_txt .txt{margin-top:18px;line-height:20px}\n",
       "        .container .info_area .info_link{margin-top:33px}\n",
       "        .container .info_area .info_link [class^=\"link_\"]{overflow:hidden;display:inline-block;width:101px;height:34px;border:1px solid #e3e6e7;background-color:#fafbfc;line-height:34px;text-align:center;vertical-align:top;white-space:nowrap}\n",
       "        .container .info_area .info_link .link_home{margin-left:10px}\n",
       "        .footer{margin-top:93px;padding:18px 0 24px;border-top:1px solid #eff3f6}\n",
       "        .footer address, .footer .link_naver{text-align:center;font-family:verdana,sans-serif;font-size:11px;line-height:14px;color:#8f8f8f}\n",
       "        /* 모바일 */\n",
       "        body.mobile, body.mobile input,textarea,select,button,table{font-family:-apple-system,BlinkMacSystemFont,helvetica,Apple SD Gothic Neo,sans-serif;letter-spacing:-0.3px}\n",
       "        body.mobile{background-color:#fafbfc;-webkit-text-size-adjust:none}\n",
       "        body.mobile .wrap{width:100%}\n",
       "        body.mobile .header{padding-top:15px;text-align:center}\n",
       "        body.mobile .header .logo{float:none}\n",
       "        body.mobile .header .logo .logo_link img{width:82px;height:15px}\n",
       "        body.mobile .header .nav{display:none}\n",
       "        body.mobile .container{margin-top:38px}\n",
       "        body.mobile .container .content{position:relative}\n",
       "        body.mobile .container .image_area{position:absolute;bottom:72px;left:50%;margin-left:-140px}\n",
       "        body.mobile .container .image_area+.info_area{margin:0}\n",
       "        body.mobile .container .image_area+.info_area .info_link{margin-top:280px}\n",
       "        body.mobile .container .info_area{margin:40px 0 161px 0;text-align:center}\n",
       "        body.mobile .container .info_area .info_txt{margin-top:0}\n",
       "        body.mobile .container .info_area .info_txt .tit{font-size:26px;line-height:29px;color:#000}\n",
       "        body.mobile .container .info_area .info_txt .txt{margin-top:13px;font-size:17px;line-height:25px;color:#666}\n",
       "        body.mobile .container .info_area .info_link{margin-top:79px}\n",
       "        body.mobile .container .info_area .info_link [class^=\"link_\"]{width:139px;height:42px;background-color:#fff;font-size:15px;line-height:42px;color:#424242}\n",
       "        body.mobile .container .info_area .info_link .link_home{margin-left:-1px}\n",
       "        body.mobile .footer{margin-top:66px;border-top:0}\n",
       "        body.mobile .footer address span{display:none}\n",
       "    </style>\n",
       "</head>\n",
       "<!-- 모바일 노출시 .mobile 추가 -->\n",
       "<body>\n",
       "<div class=\"u_skip\" id=\"u_skip\">\n",
       "<a href=\"#content\">본문 바로가기</a>\n",
       "</div>\n",
       "<div class=\"wrap\">\n",
       "<div class=\"header\" role=\"banner\">\n",
       "<h1 class=\"logo\"><a class=\"logo_link\" href=\"https://www.naver.com\"><img alt=\"네이버\" height=\"16\" src=\"https://ssl.pstatic.net/static.datalab/202004030222/img/naver_logo.png\" width=\"90\"/></a></h1>\n",
       "<div class=\"nav\" role=\"navigation\">\n",
       "<a class=\"nav_link\" href=\"https://www.naver.com\">네이버홈</a>\n",
       "<a class=\"nav_link\" href=\"https://help.naver.com/support/service/main.nhn?serviceNo=14493\">네이버 데이터랩 고객센터</a>\n",
       "</div>\n",
       "</div>\n",
       "<hr/>\n",
       "<div class=\"container\" role=\"main\">\n",
       "<div class=\"content\" id=\"content\">\n",
       "<div class=\"image_area _errorImage\">\n",
       "</div>\n",
       "<div class=\"info_area\">\n",
       "<div class=\"info_txt\">\n",
       "<strong class=\"tit\">다시 한번 확인해주세요!</strong>\n",
       "<p class=\"txt\">\n",
       "                        지금 입력하신 주소의 페이지는<br/>\n",
       "                        사라졌거나 다른 페이지로 변경되었습니다.<br/>\n",
       "                        주소를 다시 확인해주세요.\n",
       "                    </p>\n",
       "</div>\n",
       "<div class=\"info_link\">\n",
       "<a class=\"link_prev\" href=\"javascript:history.back()\">이전 페이지</a><a class=\"link_home\" href=\"https://www.naver.com\">네이버 홈</a>\n",
       "</div>\n",
       "</div>\n",
       "</div>\n",
       "</div>\n",
       "<hr/>\n",
       "<div class=\"footer\" role=\"contentinfo\">\n",
       "<address>\n",
       "<span>Copyright</span> ©<a class=\"link_naver\" href=\"http://www.navercorp.com\" target=\"_blank\">NAVER Corp.</a> <span>All Rights Reserved.</span>\n",
       "</address>\n",
       "</div>\n",
       "</div>\n",
       "<script src=\"https://ssl.pstatic.net/static/fe/grafolio.js\"></script>\n",
       "</body>\n",
       "</html>"
      ]
     },
     "execution_count": 3,
     "metadata": {},
     "output_type": "execute_result"
    }
   ],
   "source": [
    "Age = []\n",
    "for Age in range(1,6) :\n",
    "    realtime_Url = f'https://datalab.naver.com/keyword/realtimeList.naver?age={Age}0s'\n",
    "    res = req.get(realtime_Url)\n",
    "    res_list = bs(res.text,'lxml')\n",
    "res_list"
   ]
  },
  {
   "cell_type": "code",
   "execution_count": null,
   "metadata": {},
   "outputs": [],
   "source": []
  }
 ],
 "metadata": {
  "kernelspec": {
   "display_name": "Python 3",
   "language": "python",
   "name": "python3"
  },
  "language_info": {
   "codemirror_mode": {
    "name": "ipython",
    "version": 3
   },
   "file_extension": ".py",
   "mimetype": "text/x-python",
   "name": "python",
   "nbconvert_exporter": "python",
   "pygments_lexer": "ipython3",
   "version": "3.7.6"
  }
 },
 "nbformat": 4,
 "nbformat_minor": 4
}

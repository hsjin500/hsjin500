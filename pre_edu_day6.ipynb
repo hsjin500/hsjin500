{
 "cells": [
  {
   "cell_type": "markdown",
   "metadata": {},
   "source": [
    "# 반복문(for, while) "
   ]
  },
  {
   "cell_type": "code",
   "execution_count": 1,
   "metadata": {},
   "outputs": [
    {
     "name": "stdout",
     "output_type": "stream",
     "text": [
      "1\n",
      "2\n",
      "3\n",
      "4\n",
      "5\n",
      "6\n"
     ]
    }
   ],
   "source": [
    "for i in range(1,7):\n",
    "    print(i)"
   ]
  },
  {
   "cell_type": "code",
   "execution_count": 4,
   "metadata": {},
   "outputs": [
    {
     "name": "stdout",
     "output_type": "stream",
     "text": [
      "2\n",
      "4\n",
      "8\n"
     ]
    }
   ],
   "source": [
    "i=1\n",
    "while i<5:\n",
    "    i+=i #i=i+i\n",
    "    print(i)"
   ]
  },
  {
   "cell_type": "code",
   "execution_count": 5,
   "metadata": {},
   "outputs": [
    {
     "name": "stdout",
     "output_type": "stream",
     "text": [
      "2\n",
      "3\n",
      "4\n",
      "5\n"
     ]
    }
   ],
   "source": [
    "i=1\n",
    "while i<5:\n",
    "    i+=1 #i=i+1\n",
    "    print(i)"
   ]
  },
  {
   "cell_type": "code",
   "execution_count": 9,
   "metadata": {},
   "outputs": [
    {
     "name": "stdout",
     "output_type": "stream",
     "text": [
      "1\n",
      "2\n",
      "3\n"
     ]
    }
   ],
   "source": [
    "Number = 1\n",
    "while True:\n",
    "    print(Number)\n",
    "    Number += 1\n",
    "    if Number > 3:\n",
    "        break"
   ]
  },
  {
   "cell_type": "code",
   "execution_count": 16,
   "metadata": {},
   "outputs": [
    {
     "name": "stdout",
     "output_type": "stream",
     "text": [
      "정수1을 입력하세요 >> 1\n",
      "정수2를 입력하세요 >> 5\n",
      "두 정수의 합 : 6\n",
      "정수1을 입력하세요 >> 9\n",
      "정수2를 입력하세요 >> 56\n",
      "두 정수의 합 : 65\n",
      "정수1을 입력하세요 >> 5\n",
      "정수2를 입력하세요 >> 7\n",
      "두 정수의 합 : 12\n",
      "정수1을 입력하세요 >> 77\n",
      "정수2를 입력하세요 >> 2\n",
      "두 정수의 합 : 79\n",
      "정수1을 입력하세요 >> 5\n",
      "정수2를 입력하세요 >> 0\n",
      "두 정수의 합 : 5\n",
      "정수1을 입력하세요 >> 0\n",
      "정수2를 입력하세요 >> 0\n",
      "두 정수의 합 : 0\n",
      "프로그램이 종료되었습니다.\n"
     ]
    }
   ],
   "source": [
    "while True:\n",
    "    int1=int(input('정수1을 입력하세요 >> '))\n",
    "    int2=int(input('정수2를 입력하세요 >> '))\n",
    "    print('두 정수의 합 : {}'.format(int1+int2))\n",
    "    if int1 == 0 and int2 == 0 :\n",
    "        break\n",
    "print('프로그램이 종료되었습니다.')"
   ]
  },
  {
   "cell_type": "markdown",
   "metadata": {},
   "source": [
    "#### for문 예시"
   ]
  },
  {
   "cell_type": "code",
   "execution_count": 17,
   "metadata": {},
   "outputs": [
    {
     "name": "stdout",
     "output_type": "stream",
     "text": [
      "안\n",
      "녕\n",
      "하\n",
      "세\n",
      "요\n"
     ]
    }
   ],
   "source": [
    "hi = '안녕하세요'\n",
    "for s in hi:\n",
    "    print(s)"
   ]
  },
  {
   "cell_type": "code",
   "execution_count": 18,
   "metadata": {},
   "outputs": [
    {
     "name": "stdout",
     "output_type": "stream",
     "text": [
      "햄버거\n",
      "치킨\n",
      "피자\n"
     ]
    }
   ],
   "source": [
    "tuple_food=('햄버거','치킨','피자')\n",
    "for food in tuple_food:\n",
    "    print(food)"
   ]
  },
  {
   "cell_type": "code",
   "execution_count": 27,
   "metadata": {},
   "outputs": [
    {
     "name": "stdout",
     "output_type": "stream",
     "text": [
      "1번 학생은 합격입니다.\n",
      "2번 학생은 불합격입니다.\n",
      "3번 학생은 합격입니다.\n",
      "4번 학생은 합격입니다.\n",
      "5번 학생은 불합격입니다.\n"
     ]
    }
   ],
   "source": [
    "score_list = [90, 45, 70, 60, 55]\n",
    "\n",
    "for score in score_list:\n",
    "    x=score_list.index(score)+1\n",
    "    if score >= 60 :\n",
    "        result = '합격'\n",
    "    else:\n",
    "        result = '불합격'\n",
    "    print('{}번 학생은 {}입니다.'.format(x,result))"
   ]
  }
 ],
 "metadata": {
  "kernelspec": {
   "display_name": "Python 3",
   "language": "python",
   "name": "python3"
  },
  "language_info": {
   "codemirror_mode": {
    "name": "ipython",
    "version": 3
   },
   "file_extension": ".py",
   "mimetype": "text/x-python",
   "name": "python",
   "nbconvert_exporter": "python",
   "pygments_lexer": "ipython3",
   "version": "3.7.6"
  }
 },
 "nbformat": 4,
 "nbformat_minor": 4
}

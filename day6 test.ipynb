{
 "cells": [
  {
   "cell_type": "markdown",
   "metadata": {},
   "source": [
    "# 문제1"
   ]
  },
  {
   "cell_type": "markdown",
   "metadata": {},
   "source": [
    "#### 6번 ,     if  마지막에   '     :     '   이   없음."
   ]
  },
  {
   "cell_type": "markdown",
   "metadata": {},
   "source": [
    "# 문제2 "
   ]
  },
  {
   "cell_type": "code",
   "execution_count": 16,
   "metadata": {},
   "outputs": [
    {
     "name": "stdout",
     "output_type": "stream",
     "text": [
      "'치즈불닭볶음면'\n",
      "'콜라'\n"
     ]
    }
   ],
   "source": [
    "food_list=(('와사비맛 아몬드','꽃게랑 와사비'),('짜파게티','스낵면',('불닭볶음면','치즈불닭볶음면')),'콜라','핫바')\n",
    "\n",
    "a = food_list[1]\n",
    "b = a[2]\n",
    "c = b[1]\n",
    "print('\\'{}\\''.format(c))\n",
    "\n",
    "d=food_list[-2]\n",
    "print('\\'{}\\''.format(d))"
   ]
  },
  {
   "cell_type": "markdown",
   "metadata": {},
   "source": [
    "# 문제3"
   ]
  },
  {
   "cell_type": "code",
   "execution_count": 22,
   "metadata": {},
   "outputs": [
    {
     "name": "stdout",
     "output_type": "stream",
     "text": [
      "'이명호'선생님은 SMHRD 3대 미남이 아닙니다...\n",
      "'이기성'선생님은 SMHRD 3대 미남입니다.\n",
      "'차현석'선생님은 SMHRD 3대 미남입니다.\n",
      "'황해도'선생님은 SMHRD 3대 미남이 아닙니다...\n",
      "'박병관'선생님은 SMHRD 3대 미남입니다.\n",
      "'김동원'선생님은 SMHRD 3대 미남이 아닙니다...\n"
     ]
    }
   ],
   "source": [
    "smhrd_names = ['이명호','이기성','차현석','황해도','박병관','김동원']\n",
    "for a in smhrd_names :\n",
    "    if smhrd_names.index(a) == 0 or smhrd_names.index(a) ==3 or smhrd_names.index(a) ==5:\n",
    "        result = '이 아닙니다...'\n",
    "    elif smhrd_names.index(a) == 1 or smhrd_names.index(a) ==2 or smhrd_names.index(a) ==4:\n",
    "        result = '입니다.'    \n",
    "    \n",
    "    print(\"'{}'선생님은 SMHRD 3대 미남{}\".format(a,result))"
   ]
  },
  {
   "cell_type": "markdown",
   "metadata": {},
   "source": [
    "# 문제4 "
   ]
  },
  {
   "cell_type": "code",
   "execution_count": 27,
   "metadata": {},
   "outputs": [
    {
     "name": "stdout",
     "output_type": "stream",
     "text": [
      "짝수 2개, 홀수 7개\n"
     ]
    }
   ],
   "source": [
    "number_list = [1,30,7,9,17,3,5,23,44]\n",
    "Even = 0\n",
    "Odd = 0\n",
    "for A in number_list:\n",
    "    if A%2==0 :\n",
    "        Even += 1\n",
    "    else:\n",
    "        Odd += 1\n",
    "print('짝수 {}개, 홀수 {}개'.format(Even,Odd))"
   ]
  }
 ],
 "metadata": {
  "kernelspec": {
   "display_name": "Python 3",
   "language": "python",
   "name": "python3"
  },
  "language_info": {
   "codemirror_mode": {
    "name": "ipython",
    "version": 3
   },
   "file_extension": ".py",
   "mimetype": "text/x-python",
   "name": "python",
   "nbconvert_exporter": "python",
   "pygments_lexer": "ipython3",
   "version": "3.7.6"
  }
 },
 "nbformat": 4,
 "nbformat_minor": 4
}

{
 "cells": [
  {
   "cell_type": "code",
   "execution_count": 1,
   "metadata": {},
   "outputs": [
    {
     "name": "stdout",
     "output_type": "stream",
     "text": [
      "xxxxxxxxxx\n"
     ]
    }
   ],
   "source": [
    "s = 'x'\n",
    "print(s*10)"
   ]
  },
  {
   "cell_type": "code",
   "execution_count": 2,
   "metadata": {},
   "outputs": [
    {
     "name": "stdout",
     "output_type": "stream",
     "text": [
      "안녕하세요안녕하세요\n"
     ]
    }
   ],
   "source": [
    "s = '안녕하세요'\n",
    "print(s*2)"
   ]
  },
  {
   "cell_type": "code",
   "execution_count": 3,
   "metadata": {},
   "outputs": [
    {
     "name": "stdout",
     "output_type": "stream",
     "text": [
      "정수 입력 >> 2\n",
      "지수 입력 >> 3\n",
      "2의 3승은 8입니다.\n"
     ]
    }
   ],
   "source": [
    "num = int(input('정수 입력 >> '))\n",
    "power = int(input('지수 입력 >> '))\n",
    "print('{}의 {}승은 {}입니다.'.format(num,power,num**power))"
   ]
  },
  {
   "cell_type": "code",
   "execution_count": 15,
   "metadata": {},
   "outputs": [
    {
     "name": "stdout",
     "output_type": "stream",
     "text": [
      "******** 연산하기 ********\n",
      "정수 입력 >> 10\n",
      "정수 입력 >> 20\n",
      "연산자 입력 >> +\n",
      "10 + 20 = 30\n"
     ]
    }
   ],
   "source": [
    "print('*'*8,'연산하기','*'*8)\n",
    "num1 = int(input('정수 입력 >> '))\n",
    "num2 = int(input('정수 입력 >> '))\n",
    "cal = input('연산자 입력 >> ')\n",
    "B=num1+num2\n",
    "print(f'{num1} {cal} {num2} = {B}')"
   ]
  },
  {
   "cell_type": "code",
   "execution_count": 17,
   "metadata": {},
   "outputs": [
    {
     "data": {
      "text/plain": [
       "36"
      ]
     },
     "execution_count": 17,
     "metadata": {},
     "output_type": "execute_result"
    }
   ],
   "source": [
    "num = 27\n",
    "num += 3\n",
    "num += 3\n",
    "num += 3\n",
    "num"
   ]
  },
  {
   "cell_type": "code",
   "execution_count": 19,
   "metadata": {},
   "outputs": [
    {
     "name": "stdout",
     "output_type": "stream",
     "text": [
      "25\n"
     ]
    }
   ],
   "source": [
    "num = 100\n",
    "num /= 2\n",
    "num /= 2\n",
    "print(int(num))"
   ]
  },
  {
   "cell_type": "code",
   "execution_count": 25,
   "metadata": {},
   "outputs": [
    {
     "name": "stdout",
     "output_type": "stream",
     "text": [
      "a : 3\n",
      "b : 7\n",
      "------\n",
      "a : 7\n",
      "b : 3\n"
     ]
    }
   ],
   "source": [
    "a=3\n",
    "b=7\n",
    "print('a : {}'.format(a))\n",
    "print('b : {}'.format(b))\n",
    "temp=a\n",
    "print('------')\n",
    "a=b\n",
    "b=temp\n",
    "print('a : {}'.format(a))\n",
    "print('b : {}'.format(b))"
   ]
  },
  {
   "cell_type": "code",
   "execution_count": 27,
   "metadata": {},
   "outputs": [
    {
     "name": "stdout",
     "output_type": "stream",
     "text": [
      "a : 3\n",
      "b : 7\n",
      "------\n",
      "a : 7\n",
      "b : 3\n"
     ]
    }
   ],
   "source": [
    "a=3\n",
    "b=7\n",
    "print('a : {}'.format(a))\n",
    "print('b : {}'.format(b))\n",
    "a,b=b,a\n",
    "print('------')\n",
    "print('a : {}'.format(a))\n",
    "print('b : {}'.format(b))"
   ]
  },
  {
   "cell_type": "code",
   "execution_count": 28,
   "metadata": {},
   "outputs": [
    {
     "data": {
      "text/plain": [
       "True"
      ]
     },
     "execution_count": 28,
     "metadata": {},
     "output_type": "execute_result"
    }
   ],
   "source": [
    "2!=3"
   ]
  },
  {
   "cell_type": "code",
   "execution_count": 29,
   "metadata": {},
   "outputs": [
    {
     "name": "stdout",
     "output_type": "stream",
     "text": [
      "False\n",
      "True\n",
      "False\n",
      "True\n"
     ]
    }
   ],
   "source": [
    "a,b=3,7\n",
    "print(a > b)\n",
    "print(a <= b)\n",
    "print(a == b)\n",
    "print(a != b)"
   ]
  },
  {
   "cell_type": "code",
   "execution_count": 39,
   "metadata": {},
   "outputs": [
    {
     "name": "stdout",
     "output_type": "stream",
     "text": [
      "a : 3, b : 9\n",
      "True\n",
      "False\n",
      "False\n",
      "True\n"
     ]
    }
   ],
   "source": [
    "import random as rd\n",
    "a = rd.randint(1,10)\n",
    "b = rd.randint(1,10)\n",
    "\n",
    "print(f'a : {a}, b : {b}')\n",
    "\n",
    "print(a < b)\n",
    "print(a >= b)\n",
    "print(a == b)\n",
    "print(a != b)"
   ]
  },
  {
   "cell_type": "code",
   "execution_count": 40,
   "metadata": {},
   "outputs": [
    {
     "data": {
      "text/plain": [
       "False"
      ]
     },
     "execution_count": 40,
     "metadata": {},
     "output_type": "execute_result"
    }
   ],
   "source": [
    "a = 3\n",
    "b = 7\n",
    "not a < b"
   ]
  },
  {
   "cell_type": "code",
   "execution_count": 41,
   "metadata": {},
   "outputs": [
    {
     "data": {
      "text/plain": [
       "True"
      ]
     },
     "execution_count": 41,
     "metadata": {},
     "output_type": "execute_result"
    }
   ],
   "source": [
    "not a == b"
   ]
  },
  {
   "cell_type": "code",
   "execution_count": 48,
   "metadata": {},
   "outputs": [
    {
     "name": "stdout",
     "output_type": "stream",
     "text": [
      "False\n",
      "False\n",
      "True\n"
     ]
    }
   ],
   "source": [
    "print(3 > 5 and 10 == 20)\n",
    "print(3 > 5 and 10 < 20)\n",
    "print(3 < 5 and 10 < 20)"
   ]
  },
  {
   "cell_type": "code",
   "execution_count": 49,
   "metadata": {},
   "outputs": [
    {
     "name": "stdout",
     "output_type": "stream",
     "text": [
      "False\n",
      "True\n",
      "True\n"
     ]
    }
   ],
   "source": [
    "print(3 > 5 or 10 == 20)\n",
    "print(3 > 5 or 10 < 20)\n",
    "print(3 < 5 or 10 < 20)"
   ]
  },
  {
   "cell_type": "code",
   "execution_count": 50,
   "metadata": {},
   "outputs": [
    {
     "data": {
      "text/plain": [
       "'합격'"
      ]
     },
     "execution_count": 50,
     "metadata": {},
     "output_type": "execute_result"
    }
   ],
   "source": [
    "score = 80\n",
    "'합격' if score >= 60 else '불합격'"
   ]
  },
  {
   "cell_type": "code",
   "execution_count": 51,
   "metadata": {},
   "outputs": [
    {
     "data": {
      "text/plain": [
       "'불합격'"
      ]
     },
     "execution_count": 51,
     "metadata": {},
     "output_type": "execute_result"
    }
   ],
   "source": [
    "score = 50\n",
    "'합격' if score >= 60 else '불합격'"
   ]
  },
  {
   "cell_type": "code",
   "execution_count": 53,
   "metadata": {},
   "outputs": [
    {
     "name": "stdout",
     "output_type": "stream",
     "text": [
      "정수입력 >> 3\n",
      "정수입력 >> 10\n",
      "b :10\n"
     ]
    }
   ],
   "source": [
    "a = int(input('정수입력 >> '))\n",
    "b = int(input('정수입력 >> '))\n",
    "print(f'a :{a}') if a > b else print(f'b :{b}')"
   ]
  },
  {
   "cell_type": "code",
   "execution_count": null,
   "metadata": {},
   "outputs": [],
   "source": [
    "DEPARTMENT_ID     NOT NULL  NUMBER(4)\n",
    "DEPARTMENT_NAME   NOT NULL  VARCHAR2(30)\n",
    "MANAGER_ID                  NUMBER(6)\n",
    "LOCATION_ID                 NUMBER(4)"
   ]
  },
  {
   "cell_type": "code",
   "execution_count": 3,
   "metadata": {},
   "outputs": [
    {
     "name": "stdout",
     "output_type": "stream",
     "text": [
      "정수 입력 >> 19점\n",
      "정수를 입력해주세요.\n",
      "정수 입력 >> 19\n",
      "19은 홀수 입니다.\n"
     ]
    }
   ],
   "source": [
    "while True:\n",
    "    try :\n",
    "        num1 = int(input('정수 입력 >> '))\n",
    "    except ValueError:\n",
    "        print('정수를 입력해주세요.')\n",
    "        continue\n",
    "    break\n",
    "\n",
    "print(f'{num1}은 짝수 입니다.') if num1%2 == 0 else print(f'{num1}은 홀수 입니다.')"
   ]
  },
  {
   "cell_type": "code",
   "execution_count": 5,
   "metadata": {},
   "outputs": [
    {
     "name": "stdout",
     "output_type": "stream",
     "text": [
      "첫 번째 정수 입력 >> 33\n",
      "첫 번째 정수 입력 >> 5\n",
      "두수의 차 :28\n"
     ]
    }
   ],
   "source": [
    "num1 = int(input('첫 번째 정수 입력 >> '))\n",
    "num2 = int(input('첫 번째 정수 입력 >> '))\n",
    "A=num1-num2\n",
    "B=num2-num1\n",
    "print(f'두수의 차 :{A}') if num1 >= num2 else print(f'두수의 차 :{B}')"
   ]
  },
  {
   "cell_type": "code",
   "execution_count": 8,
   "metadata": {},
   "outputs": [
    {
     "name": "stdout",
     "output_type": "stream",
     "text": [
      "택시비를 입력한다.9000\n"
     ]
    },
    {
     "data": {
      "text/plain": [
       "'택시를 안탄다'"
      ]
     },
     "execution_count": 8,
     "metadata": {},
     "output_type": "execute_result"
    }
   ],
   "source": [
    "money = int(input('택시비를 입력한다.'))\n",
    "\n",
    "'택시를 탄다' if money >= 10000 else '택시를 안탄다'"
   ]
  },
  {
   "cell_type": "code",
   "execution_count": 13,
   "metadata": {},
   "outputs": [
    {
     "name": "stdout",
     "output_type": "stream",
     "text": [
      "가지고 있는 돈 >> 12000\n",
      "택시를 탄다.\n"
     ]
    }
   ],
   "source": [
    "money = int(input('가지고 있는 돈 >> '))\n",
    "if money >= 10000 :\n",
    "    print('택시를 탄다.')\n",
    "else :\n",
    "    print('버스를 탄다.')"
   ]
  },
  {
   "cell_type": "code",
   "execution_count": 15,
   "metadata": {},
   "outputs": [
    {
     "name": "stdout",
     "output_type": "stream",
     "text": [
      "정수를 입력해주세요 >> 7\n",
      "3과 5의 배수가 아닙니다.\n"
     ]
    }
   ],
   "source": [
    "num = int(input('정수를 입력해주세요 >> '))\n",
    "\n",
    "if num%3 == 0 and num%5 == 0 :\n",
    "    print('3과 5의 배수입니다.')\n",
    "else:\n",
    "    print('3과 5의 배수가 아닙니다.')"
   ]
  },
  {
   "cell_type": "code",
   "execution_count": 31,
   "metadata": {},
   "outputs": [
    {
     "name": "stdout",
     "output_type": "stream",
     "text": [
      "마스크의 개수 입력 >> 15\n",
      "8개들이 마스크의 개수 : 1\n",
      "5개들이 마스크의 개수 : 2\n"
     ]
    }
   ],
   "source": [
    "countOfMask = int(input('마스크의 개수 입력 >> '))\n",
    "\n",
    "P8 = countOfMask//8\n",
    "P8L = countOfMask%8\n",
    "\n",
    "if P8L%5==0:\n",
    "    P5 = P8L//5\n",
    "else:\n",
    "    P5 = P8L//5 + 1\n",
    "\n",
    "print('8개들이 마스크의 개수 : {}'.format(P8))\n",
    "print('5개들이 마스크의 개수 : {}'.format(P5))"
   ]
  },
  {
   "cell_type": "markdown",
   "metadata": {},
   "source": [
    "7 -> 5개 2\n",
    "8 ->8 개 1\n",
    "15 ->8개 1 , 5개 2\n",
    "16-> 8개 2"
   ]
  },
  {
   "cell_type": "markdown",
   "metadata": {},
   "source": [
    "DEPARTMENT_ID    NOT NULL NUMBER(4)\n",
    "DEPARTMENT_NAME  NOT NULL VARCHAR(30)\n",
    "MANAGER_ID                NUMBER(6)\n",
    "LOCATION_ID               NUMBER(4)"
   ]
  },
  {
   "cell_type": "code",
   "execution_count": 52,
   "metadata": {},
   "outputs": [
    {
     "name": "stdout",
     "output_type": "stream",
     "text": [
      "첫 번째 정수 입력 >> 5\n",
      "두 번째 정수 입력 >> 3\n",
      "첫 번째 정수가 더 큽니다.\n",
      "첫 번째 정수 입력 >> 7\n",
      "두 번째 정수 입력 >> 13\n",
      "두 번째 정수가 더 큽니다.\n",
      "첫 번째 정수 입력 >> 7\n",
      "두 번째 정수 입력 >> 7\n",
      "두 수가 같습니다.\n"
     ]
    }
   ],
   "source": [
    "for i in range(0,3) :\n",
    "    num1=int(input('첫 번째 정수 입력 >> '))\n",
    "    num2=int(input('두 번째 정수 입력 >> '))\n",
    "    if num1 > num2 :\n",
    "        print('첫 번째 정수가 더 큽니다.')\n",
    "    elif num1 < num2 :\n",
    "        print('두 번째 정수가 더 큽니다.')\n",
    "    else :\n",
    "        print('두 수가 같습니다.')"
   ]
  },
  {
   "cell_type": "code",
   "execution_count": 61,
   "metadata": {},
   "outputs": [
    {
     "name": "stdout",
     "output_type": "stream",
     "text": [
      "정수 입력 >> 1 2\n",
      "num1 :1 \n",
      "num2 :2\n"
     ]
    }
   ],
   "source": [
    "num1,num2 = input('정수 입력 >> ').split()\n",
    "print(f'num1 :{num1}',f'\\nnum2 :{num2}')"
   ]
  },
  {
   "cell_type": "code",
   "execution_count": 72,
   "metadata": {},
   "outputs": [
    {
     "name": "stdout",
     "output_type": "stream",
     "text": [
      "점수 입력 >> 110\n",
      "110점은 A학점 입니다.\n",
      "점수 입력 >> 55\n",
      "55점은 F학점 입니다.\n",
      "점수 입력 >> 76\n",
      "76점은 C학점 입니다.\n"
     ]
    }
   ],
   "source": [
    "for i in range(1,4) :\n",
    "    score = int(input('점수 입력 >> '))\n",
    "    if score >= 90 :\n",
    "        result = 'A'\n",
    "    elif 90 > score >= 80 :\n",
    "        result = 'B'\n",
    "    elif 80 > score >= 70 :\n",
    "        result = 'C'\n",
    "    elif 70 > score >= 60 :\n",
    "        result = 'D'\n",
    "    elif 60 > score :\n",
    "        result = 'F'\n",
    "    print(f'{score}점은 {result}학점 입니다.')"
   ]
  },
  {
   "cell_type": "markdown",
   "metadata": {},
   "source": [
    "# 자판기 1 "
   ]
  },
  {
   "cell_type": "code",
   "execution_count": 80,
   "metadata": {},
   "outputs": [
    {
     "name": "stdout",
     "output_type": "stream",
     "text": [
      "돈을 넣어주세요 >> 3600\n",
      "메뉴를 선택 해주세요 >> 2\n",
      "잔돈 >> 1000원 2개, 500원 1개, 100원 3개\n"
     ]
    }
   ],
   "source": [
    "coin = int(input('돈을 넣어주세요 >> '))\n",
    "\n",
    "menu = int(input('메뉴를 선택 해주세요 >> '))\n",
    "\n",
    "if menu == 1 :\n",
    "    item = 600\n",
    "elif menu == 2 :\n",
    "    item = 800\n",
    "elif menu == 3 :\n",
    "    item = 1000\n",
    "\n",
    "chainges = coin - item\n",
    "\n",
    "                #1. 콜라 = 600\n",
    "                #2. 사이다 = 800\n",
    "                #3. 물 = 1000\n",
    "\n",
    "A1000 = chainges//1000\n",
    "B500 = chainges%1000//500\n",
    "C100 = chainges%500//100\n",
    "\n",
    "if menu > coin :\n",
    "    print('돈을 더 주입해주십시요.')\n",
    "elif coin >= menu:\n",
    "    print(f'잔돈 >> 1000원 {A1000}개, 500원 {B500}개, 100원 {C100}개')"
   ]
  },
  {
   "cell_type": "markdown",
   "metadata": {},
   "source": [
    "# 자판기 2 "
   ]
  },
  {
   "cell_type": "code",
   "execution_count": 4,
   "metadata": {},
   "outputs": [
    {
     "name": "stdout",
     "output_type": "stream",
     "text": [
      "돈을 넣어주세요 >> 100원\n",
      "숫자만 넣어 주십시요.\n",
      "돈을 넣어주세요 >> 100\n",
      "메뉴를 선택 해주세요 >> 1\n",
      "  금액 부족\n",
      "  돈을 더 주입해주십시요.\n",
      "돈을 넣어주세요 >> 1000\n",
      "메뉴를 선택 해주세요 >> 4\n",
      "메뉴는 1,2,3 까지만 있습니다.\n",
      "돈을 넣어주세요 >> 1000\n",
      "메뉴를 선택 해주세요 >> 1\n",
      "잔돈 >> 1000원 0개, 500원 0개, 100원 4개\n"
     ]
    }
   ],
   "source": [
    "while True:\n",
    "    try:\n",
    "        coin = int(input('돈을 넣어주세요 >> '))\n",
    "    except ValueError:\n",
    "        print('숫자만 넣어 주십시요.')\n",
    "        continue\n",
    "        \n",
    "    menu = int(input('메뉴를 선택 해주세요 >> '))\n",
    "    if menu == 1 :\n",
    "        item = 600\n",
    "        if coin < item:\n",
    "            print('  금액 부족')\n",
    "            print('  돈을 더 주입해주십시요.')\n",
    "            continue\n",
    "    elif menu == 2 :\n",
    "        item = 800\n",
    "        if coin < item:\n",
    "            print('  금액 부족')\n",
    "            print('  돈을 더 주입해주십시요.')\n",
    "            continue\n",
    "    elif menu == 3 :\n",
    "        item = 1000\n",
    "        if coin < item:\n",
    "            print('  금액 부족')\n",
    "            print('  돈을 더 주입해주십시요.')\n",
    "            continue\n",
    "    else :\n",
    "        print('메뉴는 1,2,3 까지만 있습니다.')\n",
    "        continue\n",
    "    break\n",
    "\n",
    "chainges = coin - item\n",
    "\n",
    "                #1. 콜라 = 600\n",
    "                #2. 사이다 = 800\n",
    "                #3. 물 = 1000\n",
    "\n",
    "W1000 = chainges//1000\n",
    "W500 = chainges%1000//500\n",
    "W100 = chainges%500//100\n",
    "\n",
    "print(f'잔돈 >> 1000원 {W1000}개, 500원 {W500}개, 100원 {W100}개')"
   ]
  },
  {
   "cell_type": "markdown",
   "metadata": {},
   "source": [
    "# 자판기 3 "
   ]
  },
  {
   "cell_type": "code",
   "execution_count": 16,
   "metadata": {},
   "outputs": [
    {
     "name": "stdout",
     "output_type": "stream",
     "text": [
      "돈을 넣어주세요 >> 100ㅇ\n",
      "숫자만 넣어 주십시요.\n",
      "돈을 넣어주세요 >> 100\n",
      "메뉴를 선택 해주세요 >> 4\n",
      "메뉴는 1,2,3 까지만 있습니다.\n",
      "메뉴를 선택 해주세요 >> 1\n",
      "  금액 부족\n",
      "  돈을 더 주입해주십시요.\n",
      "잔돈 >> 1000원 -1개, 500원 1개, 100원 0개\n"
     ]
    }
   ],
   "source": [
    "i = 0\n",
    "while i == 0:\n",
    "    i = 0\n",
    "    try:\n",
    "        coin = int(input('돈을 넣어주세요 >> '))\n",
    "    except ValueError:\n",
    "        print('숫자만 넣어 주십시요.')\n",
    "        continue\n",
    "    \n",
    "    menu = int(input('메뉴를 선택 해주세요 >> '))\n",
    "    if menu == 1 :\n",
    "        item = 600\n",
    "        if coin < item:\n",
    "            print('  금액 부족')\n",
    "            print('  돈을 더 주입해주십시요.')\n",
    "            i = 0\n",
    "            continue\n",
    "    elif menu == 2 :\n",
    "        item = 800\n",
    "        if coin < item:\n",
    "            print('  금액 부족')\n",
    "            print('  돈을 더 주입해주십시요.')\n",
    "            i = 0\n",
    "            continue\n",
    "    elif menu == 3 :\n",
    "        item = 1000\n",
    "        if coin < item:\n",
    "            print('  금액 부족')\n",
    "            print('  돈을 더 주입해주십시요.')\n",
    "            i = 0\n",
    "            continue\n",
    "    else :\n",
    "        i = 1\n",
    "        print('메뉴는 1,2,3 까지만 있습니다.')\n",
    "        while i > 0 :\n",
    "            menu = int(input('메뉴를 선택 해주세요 >> '))\n",
    "            if menu == 1 :\n",
    "                item = 600\n",
    "                if coin < item:\n",
    "                    print('  금액 부족')\n",
    "                    print('  돈을 더 주입해주십시요.')\n",
    "                    i = 0\n",
    "                    continue\n",
    "            elif menu == 2 :\n",
    "                item = 800\n",
    "                if coin < item:\n",
    "                    print('  금액 부족')\n",
    "                    print('  돈을 더 주입해주십시요.')\n",
    "                    i = 0\n",
    "                    continue\n",
    "            elif menu == 3 :\n",
    "                item = 1000\n",
    "                if coin < item:\n",
    "                    print('  금액 부족')\n",
    "                    print('  돈을 더 주입해주십시요.')\n",
    "                    i = 0\n",
    "                    continue\n",
    "            else :\n",
    "                print('메뉴는 1,2,3 까지만 있습니다.')\n",
    "                i = 1\n",
    "                continue\n",
    "            break\n",
    "    break\n",
    "\n",
    "chainges = coin - item\n",
    "\n",
    "                #1. 콜라 = 600\n",
    "                #2. 사이다 = 800\n",
    "                #3. 물 = 1000\n",
    "\n",
    "W1000 = chainges//1000\n",
    "W500 = chainges%1000//500\n",
    "W100 = chainges%500//100\n",
    "\n",
    "print(f'잔돈 >> 1000원 {W1000}개, 500원 {W500}개, 100원 {W100}개')"
   ]
  },
  {
   "cell_type": "code",
   "execution_count": 4,
   "metadata": {},
   "outputs": [
    {
     "name": "stdout",
     "output_type": "stream",
     "text": [
      "2\n",
      "9\n",
      "17\n"
     ]
    }
   ],
   "source": [
    "list1 = [2, 5, 7, 9, 10]\n",
    "print(list1[0])\n",
    "print(list1[3])\n",
    "print(list1[2]+list1[-1])"
   ]
  },
  {
   "cell_type": "code",
   "execution_count": 12,
   "metadata": {},
   "outputs": [
    {
     "name": "stdout",
     "output_type": "stream",
     "text": [
      "['a', 'b', 'c']\n",
      "b\n",
      "b\n"
     ]
    }
   ],
   "source": [
    "list2=[1, 2, 3, ['a', 'b', 'c']]\n",
    "temp = list2[3]\n",
    "print(temp)\n",
    "print(list2[3][1])\n",
    "print(temp[1])"
   ]
  },
  {
   "cell_type": "code",
   "execution_count": 14,
   "metadata": {},
   "outputs": [
    {
     "name": "stdout",
     "output_type": "stream",
     "text": [
      "[1, 2]\n",
      "[0, 1]\n",
      "[3, 4]\n",
      "[3]\n"
     ]
    }
   ],
   "source": [
    "list3 = [0, 1, 2, 3, 4]\n",
    "print(list3[1:3])\n",
    "print(list3[:2])\n",
    "print(list3[3:])\n",
    "print(list3[3:4])"
   ]
  },
  {
   "cell_type": "code",
   "execution_count": 2,
   "metadata": {},
   "outputs": [
    {
     "data": {
      "text/plain": [
       "[1, 2, 3, 3, 4, 5, 6]"
      ]
     },
     "execution_count": 2,
     "metadata": {},
     "output_type": "execute_result"
    }
   ],
   "source": [
    "list4 = [1,2,3]\n",
    "list5 = [3,4,5,6]\n",
    "list4 + list5"
   ]
  },
  {
   "cell_type": "code",
   "execution_count": 3,
   "metadata": {},
   "outputs": [
    {
     "name": "stdout",
     "output_type": "stream",
     "text": [
      "[3, 4, 5, 6, 7]\n"
     ]
    }
   ],
   "source": [
    "list5.append(7)\n",
    "print(list5)"
   ]
  },
  {
   "cell_type": "code",
   "execution_count": 10,
   "metadata": {},
   "outputs": [
    {
     "name": "stdout",
     "output_type": "stream",
     "text": [
      "['사과', '오렌지', '수박']\n"
     ]
    }
   ],
   "source": [
    "list6 = ['사과' , '포도', ['수박', '멜론'], '복숭아' ,'딸기', '오렌지']\n",
    "A=list6[0]\n",
    "O=list6[-1]\n",
    "W=list6[2][0]\n",
    "choice_list = []\n",
    "choice_list.append(A)\n",
    "choice_list.append(O)\n",
    "choice_list.append(W)\n",
    "print(choice_list)"
   ]
  },
  {
   "cell_type": "markdown",
   "metadata": {},
   "source": [
    "DEPARTMENT_ID NOT NULL NUMBER(4)\n",
    "DEPARTMENT_NAEM NOT NULL VARCHAR(30)\n",
    "MANAGER_ID NUMBER(6)\n",
    "LOCATION_ID  NUMBER(4)"
   ]
  },
  {
   "cell_type": "code",
   "execution_count": 12,
   "metadata": {},
   "outputs": [
    {
     "data": {
      "text/plain": [
       "[0, 1, 2, 3, 43, 4, 5]"
      ]
     },
     "execution_count": 12,
     "metadata": {},
     "output_type": "execute_result"
    }
   ],
   "source": [
    "list7 = [0,1,2,3,4,5]\n",
    "list7.insert(-2,43)\n",
    "list7"
   ]
  },
  {
   "cell_type": "code",
   "execution_count": 16,
   "metadata": {},
   "outputs": [
    {
     "data": {
      "text/plain": [
       "[['환상동화', '아이즈원'],\n",
       " ['에잇', '아이유'],\n",
       " ['ON', '방탄소년단'],\n",
       " ['candy', '백현'],\n",
       " ['아로하', '조정석']]"
      ]
     },
     "execution_count": 16,
     "metadata": {},
     "output_type": "execute_result"
    }
   ],
   "source": [
    "music_list = [['환상동화','아이즈원'],['ON','방탄소년단'],['아로하','조정석']]\n",
    "music_list.insert(1,['에잇','아이유'])\n",
    "music_list.insert(3,['candy','백현'])\n",
    "music_list"
   ]
  },
  {
   "cell_type": "code",
   "execution_count": 17,
   "metadata": {},
   "outputs": [
    {
     "name": "stdout",
     "output_type": "stream",
     "text": [
      "인덱스 입력 >> 3\n",
      "노래제목 입력 >> More&More\n",
      "가수명 입력 >> TWICE\n"
     ]
    },
    {
     "data": {
      "text/plain": [
       "[['환상동화', '아이즈원'],\n",
       " ['에잇', '아이유'],\n",
       " ['ON', '방탄소년단'],\n",
       " ['More&More', 'TWICE'],\n",
       " ['candy', '백현'],\n",
       " ['아로하', '조정석']]"
      ]
     },
     "execution_count": 17,
     "metadata": {},
     "output_type": "execute_result"
    }
   ],
   "source": [
    "idx_value = int(input('인덱스 입력 >> '))\n",
    "song = input('노래제목 입력 >> ')\n",
    "가수명 = input('가수명 입력 >> ')\n",
    "\n",
    "A=[]\n",
    "A.append(song)\n",
    "A.append(가수명)\n",
    "music_list.insert(idx_value,A)\n",
    "music_list"
   ]
  },
  {
   "cell_type": "code",
   "execution_count": 20,
   "metadata": {},
   "outputs": [
    {
     "name": "stdout",
     "output_type": "stream",
     "text": [
      "인덱스 입력 >> -1\n",
      "노래제목 입력 >> a\n",
      "가수명 입력 >> b\n"
     ]
    },
    {
     "data": {
      "text/plain": [
       "[['환상동화', '아이즈원'],\n",
       " ['에잇', '아이유'],\n",
       " ['ON', '방탄소년단'],\n",
       " ['More&More', 'TWICE'],\n",
       " ['candy', '백현'],\n",
       " ['a', 'b'],\n",
       " ['아로하', '조정석']]"
      ]
     },
     "execution_count": 20,
     "metadata": {},
     "output_type": "execute_result"
    }
   ],
   "source": [
    "idx_value = int(input('인덱스 입력 >> '))\n",
    "song = input('노래제목 입력 >> ')\n",
    "가수명 = input('가수명 입력 >> ')\n",
    "\n",
    "music_list.insert(idx_value,[song,가수명])\n",
    "music_list"
   ]
  },
  {
   "cell_type": "code",
   "execution_count": null,
   "metadata": {},
   "outputs": [],
   "source": []
  }
 ],
 "metadata": {
  "kernelspec": {
   "display_name": "Python 3",
   "language": "python",
   "name": "python3"
  },
  "language_info": {
   "codemirror_mode": {
    "name": "ipython",
    "version": 3
   },
   "file_extension": ".py",
   "mimetype": "text/x-python",
   "name": "python",
   "nbconvert_exporter": "python",
   "pygments_lexer": "ipython3",
   "version": "3.7.6"
  }
 },
 "nbformat": 4,
 "nbformat_minor": 4
}

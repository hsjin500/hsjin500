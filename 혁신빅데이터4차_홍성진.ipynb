{
 "cells": [
  {
   "cell_type": "markdown",
   "metadata": {},
   "source": [
    "# 문제.1 "
   ]
  },
  {
   "cell_type": "markdown",
   "metadata": {},
   "source": [
    "김하은 , 27"
   ]
  },
  {
   "cell_type": "markdown",
   "metadata": {},
   "source": [
    "# 문제.2 "
   ]
  },
  {
   "cell_type": "markdown",
   "metadata": {},
   "source": [
    "1. 자연어와 비슷\n",
    "2. 문법이 쉽고 간결\n",
    "3. 컴파일을 할 필요가 없다."
   ]
  },
  {
   "cell_type": "markdown",
   "metadata": {},
   "source": [
    "# 문제.3 "
   ]
  },
  {
   "cell_type": "markdown",
   "metadata": {},
   "source": [
    "\\n : 엔터  \n",
    "\\t : 탭간격  \n",
    "\\  : 백슬래쉬"
   ]
  },
  {
   "cell_type": "markdown",
   "metadata": {},
   "source": [
    "# 문제.4 "
   ]
  },
  {
   "cell_type": "markdown",
   "metadata": {},
   "source": [
    "insert()는 원하는 index의 위치에 삽입 가능.  \n",
    "\n",
    "append()는 무조건 뒤부터 삽입."
   ]
  },
  {
   "cell_type": "markdown",
   "metadata": {},
   "source": [
    "# 문제.5 "
   ]
  },
  {
   "cell_type": "markdown",
   "metadata": {},
   "source": [
    "list  수정가능  \n",
    "tuple 수정불가능"
   ]
  },
  {
   "cell_type": "markdown",
   "metadata": {},
   "source": [
    "# 문제.6 "
   ]
  },
  {
   "cell_type": "markdown",
   "metadata": {},
   "source": [
    "for 반복 횟수를 알 때 사용.  \n",
    "while 반복 횟수가 정해진 것이 없고 조건을 활용하여 반복문을 만들때 사용."
   ]
  },
  {
   "cell_type": "markdown",
   "metadata": {},
   "source": [
    "# 문제.7 "
   ]
  },
  {
   "cell_type": "markdown",
   "metadata": {},
   "source": [
    "1. 간편하게 사용가능(번거로움이 줄어듬)  \n",
    "2. 프로그램의 흐름을 일목요연하게 알 수 있다, "
   ]
  },
  {
   "cell_type": "markdown",
   "metadata": {},
   "source": [
    "# 문제.8 "
   ]
  },
  {
   "cell_type": "code",
   "execution_count": 8,
   "metadata": {},
   "outputs": [
    {
     "name": "stdout",
     "output_type": "stream",
     "text": [
      "첫 번째 정수 입력 : 7\n",
      "두 번째 정수 입력 : 2\n",
      "연산자 입력 : /\n",
      "연산결과 : 3.500000\n"
     ]
    }
   ],
   "source": [
    "num1 = int(input('첫 번째 정수 입력 : '))\n",
    "num2 = int(input('두 번째 정수 입력 : '))\n",
    "OP = input('연산자 입력 : ')\n",
    "\n",
    "if OP == '+' :\n",
    "    result = num1 + num2\n",
    "    print(f'연산결과 : {result}')\n",
    "elif OP == '-' :\n",
    "    result = num1 - num2\n",
    "    print(f'연산결과 : {result}')\n",
    "elif OP == '*' :\n",
    "    result = num1 * num2\n",
    "    print(f'연산결과 : {result}')\n",
    "if OP == '/' :\n",
    "    result = num1 / num2\n",
    "    C=format(result,'.6f')\n",
    "    print(f'연산결과 : {C}')"
   ]
  },
  {
   "cell_type": "markdown",
   "metadata": {},
   "source": [
    "# 문제.9 (기초) "
   ]
  },
  {
   "cell_type": "code",
   "execution_count": 35,
   "metadata": {},
   "outputs": [
    {
     "name": "stdout",
     "output_type": "stream",
     "text": [
      "7*1=7  7*2=14  7*3=21  7*4=28  7*5=35  7*6=42  7*7=49  7*8=56  7*9=63  "
     ]
    }
   ],
   "source": [
    "for i in range(1,10) :\n",
    "    print(f'7*{i}={7*i}',end = \"  \")"
   ]
  },
  {
   "cell_type": "markdown",
   "metadata": {},
   "source": [
    "# 문제.9 (응용)"
   ]
  },
  {
   "cell_type": "code",
   "execution_count": 14,
   "metadata": {
    "scrolled": true
   },
   "outputs": [
    {
     "name": "stdout",
     "output_type": "stream",
     "text": [
      "2*1=2  3*1=3  4*1=4  5*1=5  6*1=6  7*1=7  8*1=8  9*1=9\n",
      "2*2=4  3*2=6  4*2=8  5*2=10 6*2=12 7*2=14 8*2=16 9*2=18\n",
      "2*3=6  3*3=9  4*3=12 5*3=15 6*3=18 7*3=21 8*3=24 9*3=27\n",
      "2*4=8  3*4=12 4*4=16 5*4=20 6*4=24 7*4=28 8*4=32 9*4=36\n",
      "2*5=10 3*5=15 4*5=20 5*5=25 6*5=30 7*5=35 8*5=40 9*5=45\n",
      "2*6=12 3*6=18 4*6=24 5*6=30 6*6=36 7*6=42 8*6=48 9*6=54\n",
      "2*7=14 3*7=21 4*7=28 5*7=35 6*7=42 7*7=49 8*7=56 9*7=63\n",
      "2*8=16 3*8=24 4*8=32 5*8=40 6*8=48 7*8=56 8*8=64 9*8=72\n",
      "2*9=18 3*9=27 4*9=36 5*9=45 6*9=54 7*9=63 8*9=72 9*9=81\n"
     ]
    }
   ],
   "source": [
    "for i in range(1,10) :\n",
    "    for j in range(2,10) :\n",
    "        if j == 9 :\n",
    "            print(f'{j}*{i}={i*j}')\n",
    "        elif i*j <10 :\n",
    "            print(f'{j}*{i}={i*j}',end=\"  \")\n",
    "        else :\n",
    "            print(f'{j}*{i}={i*j}',end=\" \")"
   ]
  },
  {
   "cell_type": "markdown",
   "metadata": {},
   "source": [
    "# 문제.10 "
   ]
  },
  {
   "cell_type": "code",
   "execution_count": 47,
   "metadata": {},
   "outputs": [
    {
     "name": "stdout",
     "output_type": "stream",
     "text": [
      "짝수 2개, 홀수 7개\n"
     ]
    }
   ],
   "source": [
    "list1 = [1, 30, 7, 9, 17, 3, 5, 23, 44]\n",
    "Even = 0\n",
    "Odd = 0\n",
    "for i in list1 :\n",
    "    if i%2 == 0 :\n",
    "        Even += 1\n",
    "    else :\n",
    "        Odd += 1\n",
    "print(f'짝수 {Even}개, 홀수 {Odd}개')"
   ]
  },
  {
   "cell_type": "markdown",
   "metadata": {},
   "source": [
    "# 문제.11 "
   ]
  },
  {
   "cell_type": "code",
   "execution_count": 130,
   "metadata": {},
   "outputs": [
    {
     "name": "stdout",
     "output_type": "stream",
     "text": [
      "===========================================\n",
      "이름    python  Java   DB      평균    학점\n",
      "===========================================\n",
      "김미희  89      78     99      89      B\n",
      "황해도  67      88     77      77      C\n",
      "박병관  100     55     96      84      B\n",
      "===========================================\n",
      "평균    85      74     91\n"
     ]
    }
   ],
   "source": [
    "score_list = [['김미희',89,78,99],['황해도',67,88,77],['박병관',100,55,96]]\n",
    "print('='*43)\n",
    "print('이름    python  Java   DB      평균    학점')\n",
    "listP = []\n",
    "listJ = []\n",
    "listD = []\n",
    "print('='*43)\n",
    "for i in score_list :\n",
    "    Name = i[0]\n",
    "    Python = i[1]\n",
    "    Java = i[2]\n",
    "    DB = i[3]\n",
    "    Average = (i[1]+i[2]+i[3])/(len(i)-1)\n",
    "    Grade = []\n",
    "    \n",
    "    if Average >= 90 :\n",
    "        Grade = 'A'\n",
    "    elif 90 > Average >= 80 :\n",
    "        Grade = 'B'\n",
    "    elif 80 > Average >= 70 :\n",
    "        Grade = 'C'\n",
    "    elif 70 > Average >= 60 :\n",
    "        Grade = 'D'\n",
    "    elif 60 > Average :\n",
    "        Grade = 'F'\n",
    "        \n",
    "        \n",
    "    if i[1] != 100 and i[2] != 100 and i[3] != 100 :\n",
    "        print(f'{Name}  {Python}      {Java}     {DB}      {round(Average)}      {Grade}')    \n",
    "    elif i[1] == 100 or i[2] == 100 or i[3] == 100 :\n",
    "        print(f'{Name}  {Python}     {Java}     {DB}      {round(Average)}      {Grade}')\n",
    "        \n",
    "for i in score_list :\n",
    "    \n",
    "    listP.append(i[1])\n",
    "    listJ.append(i[2])\n",
    "    listD.append(i[3])\n",
    "    \n",
    "A=sum(listP)/len(score_list)\n",
    "B=sum(listJ)/len(score_list)\n",
    "C=sum(listD)/len(score_list)\n",
    "\n",
    "print('='*43)\n",
    "        \n",
    "print(f'평균    {round(A)}      {round(B)}     {round(C)}')"
   ]
  },
  {
   "cell_type": "code",
   "execution_count": 131,
   "metadata": {},
   "outputs": [
    {
     "name": "stdout",
     "output_type": "stream",
     "text": [
      "===========================================\n",
      "이름    python  Java   DB      평균    학점\n",
      "===========================================\n",
      "김미희  89      78     99      89      B\n",
      "황해도  67      88     77      77      C\n",
      "박병관  100     55     96      84      B\n",
      "김동원  20      10     20      17      F\n",
      "===========================================\n",
      "평균    69      58     73\n"
     ]
    }
   ],
   "source": [
    "score_list = [['김미희',89,78,99],['황해도',67,88,77],['박병관',100,55,96],['김동원',20,10,20]]\n",
    "print('='*43)\n",
    "print('이름    python  Java   DB      평균    학점')\n",
    "listP = []\n",
    "listJ = []\n",
    "listD = []\n",
    "print('='*43)\n",
    "for i in score_list :\n",
    "    Name = i[0]\n",
    "    Python = i[1]\n",
    "    Java = i[2]\n",
    "    DB = i[3]\n",
    "    Average = (i[1]+i[2]+i[3])/(len(i)-1)\n",
    "    Grade = []\n",
    "    \n",
    "    if Average >= 90 :\n",
    "        Grade = 'A'\n",
    "    elif 90 > Average >= 80 :\n",
    "        Grade = 'B'\n",
    "    elif 80 > Average >= 70 :\n",
    "        Grade = 'C'\n",
    "    elif 70 > Average >= 60 :\n",
    "        Grade = 'D'\n",
    "    elif 60 > Average :\n",
    "        Grade = 'F'\n",
    "        \n",
    "        \n",
    "    if i[1] != 100 and i[2] != 100 and i[3] != 100 :\n",
    "        print(f'{Name}  {Python}      {Java}     {DB}      {round(Average)}      {Grade}')    \n",
    "    elif i[1] == 100 or i[2] == 100 or i[3] == 100 :\n",
    "        print(f'{Name}  {Python}     {Java}     {DB}      {round(Average)}      {Grade}')\n",
    "        \n",
    "for i in score_list :\n",
    "    \n",
    "    listP.append(i[1])\n",
    "    listJ.append(i[2])\n",
    "    listD.append(i[3])\n",
    "    \n",
    "A=sum(listP)/len(score_list)\n",
    "B=sum(listJ)/len(score_list)\n",
    "C=sum(listD)/len(score_list)\n",
    "\n",
    "print('='*43)\n",
    "        \n",
    "print(f'평균    {round(A)}      {round(B)}     {round(C)}')"
   ]
  },
  {
   "cell_type": "markdown",
   "metadata": {},
   "source": [
    "# 문제.12 "
   ]
  },
  {
   "cell_type": "code",
   "execution_count": null,
   "metadata": {},
   "outputs": [],
   "source": [
    "import pickle\n",
    "with open('movie_review.pkl','rb') as f :\n",
    "    reviews = pickle.load"
   ]
  }
 ],
 "metadata": {
  "kernelspec": {
   "display_name": "Python 3",
   "language": "python",
   "name": "python3"
  },
  "language_info": {
   "codemirror_mode": {
    "name": "ipython",
    "version": 3
   },
   "file_extension": ".py",
   "mimetype": "text/x-python",
   "name": "python",
   "nbconvert_exporter": "python",
   "pygments_lexer": "ipython3",
   "version": "3.7.6"
  }
 },
 "nbformat": 4,
 "nbformat_minor": 4
}

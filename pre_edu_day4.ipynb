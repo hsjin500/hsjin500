{
 "cells": [
  {
   "cell_type": "markdown",
   "metadata": {},
   "source": [
    "# 조건문 "
   ]
  },
  {
   "cell_type": "code",
   "execution_count": 1,
   "metadata": {},
   "outputs": [
    {
     "name": "stdout",
     "output_type": "stream",
     "text": [
      "실행문장\n"
     ]
    }
   ],
   "source": [
    "if True:\n",
    "    print('실행문장')"
   ]
  },
  {
   "cell_type": "code",
   "execution_count": 9,
   "metadata": {},
   "outputs": [
    {
     "name": "stdout",
     "output_type": "stream",
     "text": [
      "aa\n"
     ]
    }
   ],
   "source": [
    "if False:\n",
    "    print('실행문장')\n",
    "print('aa')"
   ]
  },
  {
   "cell_type": "code",
   "execution_count": 18,
   "metadata": {},
   "outputs": [
    {
     "name": "stdout",
     "output_type": "stream",
     "text": [
      "돈의 수량을 입력하시오 >> 3000\n",
      "버스를 탄다\n"
     ]
    }
   ],
   "source": [
    "money = int(input('돈의 수량을 입력하시오 >> ' ))\n",
    "if money >= 10000:\n",
    "    print('택시를 탄다')\n",
    "else:\n",
    "    print('버스를 탄다')"
   ]
  },
  {
   "cell_type": "markdown",
   "metadata": {},
   "source": [
    "# 조건문 elif (else if) "
   ]
  },
  {
   "cell_type": "markdown",
   "metadata": {},
   "source": [
    "여러 조건문을 사용하고 싶을 때 사용. "
   ]
  },
  {
   "cell_type": "code",
   "execution_count": 23,
   "metadata": {},
   "outputs": [
    {
     "name": "stdout",
     "output_type": "stream",
     "text": [
      "첫 번째 정수 입력 >> 5\n",
      "두 번째 정수 입력 >> 5\n",
      "두 정수가 같습니다.\n"
     ]
    }
   ],
   "source": [
    "num1=int(input('첫 번째 정수 입력 >> '))\n",
    "num2=int(input('두 번째 정수 입력 >> '))\n",
    "\n",
    "if num1>num2:\n",
    "    print('첫 번째 정수가 큽니다.')\n",
    "elif num1<num2:\n",
    "    print('두 번째 정수가 큽니다.')\n",
    "else: # num1==num2(이렇게 입력 해도 됨)\n",
    "    print('두 정수가 같습니다.')"
   ]
  },
  {
   "cell_type": "code",
   "execution_count": 6,
   "metadata": {},
   "outputs": [
    {
     "name": "stdout",
     "output_type": "stream",
     "text": [
      "점수를 입력하세요 >> 75점\n",
      "숫자만 입력하세요\n",
      "점수를 입력하세요 >> 75\n",
      "75점은 C학점 입니다.\n"
     ]
    }
   ],
   "source": [
    "while True:\n",
    "    try:\n",
    "        score = int(input('점수를 입력하세요 >> '))\n",
    "    except ValueError:\n",
    "        print('숫자만 입력하세요')\n",
    "        continue\n",
    "    break\n",
    "if 100>=score>=90 :\n",
    "    print('{}점은 A학점 입니다.'.format(score))\n",
    "elif 90>score>=80 :\n",
    "    print('{}점은 B학점 입니다.'.format(score))\n",
    "elif 80>score>=70 :\n",
    "    print('{}점은 C학점 입니다.'.format(score))\n",
    "elif 70>score>=60 :\n",
    "    print('{}점은 D학점 입니다.'.format(score))\n",
    "elif 60>score :\n",
    "    print('{}점은 F학점 입니다.'.format(score))"
   ]
  },
  {
   "cell_type": "markdown",
   "metadata": {},
   "source": [
    "### 그 외 기술"
   ]
  },
  {
   "cell_type": "code",
   "execution_count": 16,
   "metadata": {},
   "outputs": [
    {
     "name": "stdout",
     "output_type": "stream",
     "text": [
      "1\n",
      "2\n",
      "4\n",
      "5\n",
      "6\n"
     ]
    }
   ],
   "source": [
    "i = 0\n",
    "while i < 6:\n",
    "    i += 1\n",
    "    if i == 3:\n",
    "        continue\n",
    "    print(i)"
   ]
  },
  {
   "cell_type": "code",
   "execution_count": 13,
   "metadata": {},
   "outputs": [
    {
     "name": "stdout",
     "output_type": "stream",
     "text": [
      "1\n",
      "2\n",
      "3\n",
      "4\n",
      "5\n"
     ]
    }
   ],
   "source": [
    "i = 1\n",
    "while i < 6:\n",
    "  print(i)\n",
    "  i += 1"
   ]
  },
  {
   "cell_type": "code",
   "execution_count": null,
   "metadata": {},
   "outputs": [],
   "source": []
  }
 ],
 "metadata": {
  "kernelspec": {
   "display_name": "Python 3",
   "language": "python",
   "name": "python3"
  },
  "language_info": {
   "codemirror_mode": {
    "name": "ipython",
    "version": 3
   },
   "file_extension": ".py",
   "mimetype": "text/x-python",
   "name": "python",
   "nbconvert_exporter": "python",
   "pygments_lexer": "ipython3",
   "version": "3.7.6"
  }
 },
 "nbformat": 4,
 "nbformat_minor": 4
}

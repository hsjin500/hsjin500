{
 "cells": [
  {
   "cell_type": "markdown",
   "metadata": {},
   "source": [
    "# 문제1 "
   ]
  },
  {
   "cell_type": "code",
   "execution_count": 7,
   "metadata": {},
   "outputs": [
    {
     "name": "stdout",
     "output_type": "stream",
     "text": [
      "['삶은 고구마', '고구마 튀김', '고구마 맛탕', '고구마 라떼', '고구마 케이크']\n"
     ]
    }
   ],
   "source": [
    "고구마_음식_리스트 = ['고구마 맛탕']\n",
    "고구마_음식_리스트.insert(0,'삶은 고구마')\n",
    "고구마_음식_리스트.insert(1,'고구마 튀김')\n",
    "고구마_음식_리스트.append('고구마 라떼')\n",
    "고구마_음식_리스트.append('고구마 케이크')\n",
    "print(고구마_음식_리스트)"
   ]
  },
  {
   "cell_type": "markdown",
   "metadata": {},
   "source": [
    "# 문제2 "
   ]
  },
  {
   "cell_type": "code",
   "execution_count": 18,
   "metadata": {},
   "outputs": [
    {
     "name": "stdout",
     "output_type": "stream",
     "text": [
      "섭씨온도를 입력하세요 >> 24\n",
      ">>> fahrenhit 75.2\n",
      "화씨온도를 입력하세요 >>50\n",
      ">>> celsius 10.0\n"
     ]
    }
   ],
   "source": [
    "celsius = int(input('섭씨온도를 입력하세요 >> '))\n",
    "\n",
    "fahrenhit = (celsius * 1.8) + 32\n",
    "\n",
    "print('>>> fahrenhit {}'.format(fahrenhit))\n",
    "\n",
    "fahrenhit = int(input('화씨온도를 입력하세요 >>'))\n",
    "\n",
    "celsius1 = (fahrenhit - 32)/1.8\n",
    "\n",
    "print('>>> celsius {}'.format(celsius1))"
   ]
  },
  {
   "cell_type": "markdown",
   "metadata": {},
   "source": [
    "# 문제3 "
   ]
  },
  {
   "cell_type": "code",
   "execution_count": 43,
   "metadata": {},
   "outputs": [
    {
     "name": "stdout",
     "output_type": "stream",
     "text": [
      "마스크 개수 입력 >> 16\n",
      "8개들이 포장지 개수 : 2\n",
      "5개들이 포장지 개수 : 0\n"
     ]
    }
   ],
   "source": [
    "countOfMask = int(input('마스크 개수 입력 >> '))\n",
    "\n",
    "B = countOfMask//8\n",
    "BR = countOfMask%8\n",
    "SR = BR%5\n",
    "\n",
    "if BR%5 > 0 :\n",
    "    S = (BR//5) + 1\n",
    "elif BR%5 == 0 :\n",
    "    S = BR//5\n",
    "print('8개들이 포장지 개수 : {}'.format(B))\n",
    "# print('8개들이 포장지로 못하고 남은 개수 : {}'.format(BR))\n",
    "print('5개들이 포장지 개수 : {}'.format(S))\n",
    "# print('마지막 5개들이 포장지 안에 들어있는 마스크의 개수 : {}'.format(SR))"
   ]
  }
 ],
 "metadata": {
  "kernelspec": {
   "display_name": "Python 3",
   "language": "python",
   "name": "python3"
  },
  "language_info": {
   "codemirror_mode": {
    "name": "ipython",
    "version": 3
   },
   "file_extension": ".py",
   "mimetype": "text/x-python",
   "name": "python",
   "nbconvert_exporter": "python",
   "pygments_lexer": "ipython3",
   "version": "3.7.6"
  }
 },
 "nbformat": 4,
 "nbformat_minor": 4
}

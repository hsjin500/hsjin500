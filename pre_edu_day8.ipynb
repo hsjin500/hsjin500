{
 "cells": [
  {
   "cell_type": "markdown",
   "metadata": {},
   "source": [
    "# 함수 "
   ]
  },
  {
   "cell_type": "code",
   "execution_count": 2,
   "metadata": {},
   "outputs": [
    {
     "name": "stdout",
     "output_type": "stream",
     "text": [
      "20하하\n"
     ]
    }
   ],
   "source": [
    "a=20\n",
    "print(f'{a}하하')"
   ]
  },
  {
   "cell_type": "code",
   "execution_count": 5,
   "metadata": {},
   "outputs": [
    {
     "data": {
      "text/plain": [
       "'알라딘 진짜 처럼 잘 만들었네 '"
      ]
     },
     "execution_count": 5,
     "metadata": {},
     "output_type": "execute_result"
    }
   ],
   "source": [
    "review_list1='알라딘 진짜 처럼 잘 만들었네 ㅋㅋㅋㅋㅋㅋㅋㅋㅋㅋㅋ'\n",
    "review_list1.replace('ㅋ','')"
   ]
  },
  {
   "cell_type": "code",
   "execution_count": 6,
   "metadata": {},
   "outputs": [
    {
     "data": {
      "text/plain": [
       "'실사 치고 잘 만들었네 연기도 잘하고 '"
      ]
     },
     "execution_count": 6,
     "metadata": {},
     "output_type": "execute_result"
    }
   ],
   "source": [
    "review_list2='실사 치고 잘 만들었네 ㅋㅋㅋ연기도 잘하고 ㅋㅋㅋ'\n",
    "review_list2.replace('ㅋ','')"
   ]
  },
  {
   "cell_type": "code",
   "execution_count": 19,
   "metadata": {},
   "outputs": [
    {
     "name": "stdout",
     "output_type": "stream",
     "text": [
      "알라딘 진짜 처럼 잘 만들었네 \n",
      "실사 치고 잘 만들었네 연기도 잘하고 \n"
     ]
    }
   ],
   "source": [
    "def string_replace(A):\n",
    "    print(A.replace('ㅋ',''))\n",
    "string_replace(review_list1)\n",
    "string_replace(review_list2)"
   ]
  },
  {
   "cell_type": "markdown",
   "metadata": {},
   "source": [
    "#####  예제"
   ]
  },
  {
   "cell_type": "code",
   "execution_count": 27,
   "metadata": {},
   "outputs": [
    {
     "data": {
      "text/plain": [
       "9"
      ]
     },
     "execution_count": 27,
     "metadata": {},
     "output_type": "execute_result"
    }
   ],
   "source": [
    "def number_sum(num1,num2):\n",
    "    result = num1 + num2\n",
    "    return result\n",
    "\n",
    "number_sum(4,5)"
   ]
  },
  {
   "cell_type": "markdown",
   "metadata": {},
   "source": [
    "# 함수 실습예제"
   ]
  },
  {
   "cell_type": "code",
   "execution_count": 31,
   "metadata": {},
   "outputs": [
    {
     "name": "stdout",
     "output_type": "stream",
     "text": [
      "정수1 입력5\n",
      "정수2 입력3\n"
     ]
    },
    {
     "data": {
      "text/plain": [
       "2"
      ]
     },
     "execution_count": 31,
     "metadata": {},
     "output_type": "execute_result"
    }
   ],
   "source": [
    "def number_minus(a,b):\n",
    "    result=a-b\n",
    "    return result\n",
    "num1 = int(input('정수1 입력'))\n",
    "num2 = int(input('정수2 입력'))\n",
    "number_minus(num1,num2)"
   ]
  },
  {
   "cell_type": "code",
   "execution_count": 33,
   "metadata": {},
   "outputs": [
    {
     "name": "stdout",
     "output_type": "stream",
     "text": [
      "문자열 입력 >>ㅋㅋㅋㅋㅋㅋ을 모두 지워주세요 ㅋㅋㅋ\n"
     ]
    },
    {
     "data": {
      "text/plain": [
       "'을 모두 지워주세요 '"
      ]
     },
     "execution_count": 33,
     "metadata": {},
     "output_type": "execute_result"
    }
   ],
   "source": [
    "s = input('문자열 입력 >>')\n",
    "def string_replace2(A):\n",
    "    return A.replace('ㅋ','')\n",
    "string_replace2(s)"
   ]
  },
  {
   "cell_type": "markdown",
   "metadata": {},
   "source": [
    "##### 두 수를 입력 받아서 원하는 연산을 수행하는 함수를 정의하시오."
   ]
  },
  {
   "cell_type": "code",
   "execution_count": 73,
   "metadata": {},
   "outputs": [
    {
     "name": "stdout",
     "output_type": "stream",
     "text": [
      "정수1 입력 >> 5\n",
      "정수2 입력 >> 4\n",
      "연산자 입력\\(+,-\\) >> +\n"
     ]
    },
    {
     "data": {
      "text/plain": [
       "9"
      ]
     },
     "execution_count": 73,
     "metadata": {},
     "output_type": "execute_result"
    }
   ],
   "source": [
    "def cal(a,b):\n",
    "    '''덧셈과 뺄셈을 하는 함수'''  #docstring\n",
    "    if OP == \"+\":\n",
    "        result= a + b  #return으로 바꿔주면 더 좋다\n",
    "    elif OP == '-':\n",
    "        result= a - b  #return으로 바꿔주면 더 좋다\n",
    "    return result\n",
    "\n",
    "num1=int(input('정수1 입력 >> '))\n",
    "num2=int(input('정수2 입력 >> '))\n",
    "OP=input('연산자 입력\\(+,-\\) >> ')\n",
    "\n",
    "cal(num1,num2)"
   ]
  },
  {
   "cell_type": "code",
   "execution_count": 76,
   "metadata": {},
   "outputs": [
    {
     "data": {
      "text/plain": [
       "6"
      ]
     },
     "execution_count": 76,
     "metadata": {},
     "output_type": "execute_result"
    }
   ],
   "source": [
    "cal(1,5)"
   ]
  },
  {
   "cell_type": "markdown",
   "metadata": {},
   "source": [
    "#####  약수를 구하는 함수"
   ]
  },
  {
   "cell_type": "code",
   "execution_count": 114,
   "metadata": {},
   "outputs": [],
   "source": [
    "def divisor(A):\n",
    "    '''약수를 구하는 함수'''\n",
    "    i = 0\n",
    "    list1 = []\n",
    "    for i in range(i,A+1):\n",
    "        i += 1\n",
    "        if A%i == 0:\n",
    "            list1.append(i)\n",
    "        else:\n",
    "            continue\n",
    "    return print(*list1, sep = \" \")"
   ]
  },
  {
   "cell_type": "code",
   "execution_count": 118,
   "metadata": {},
   "outputs": [
    {
     "name": "stdout",
     "output_type": "stream",
     "text": [
      "정수를 넣어주세요 >> 32\n",
      "1 2 4 8 16 32\n"
     ]
    }
   ],
   "source": [
    "Int1 = int(input('정수를 넣어주세요 >> '))\n",
    "\n",
    "divisor(Int1)"
   ]
  },
  {
   "cell_type": "markdown",
   "metadata": {},
   "source": [
    "### 함수 - 가변 매개변수(*)       variable parameters"
   ]
  },
  {
   "cell_type": "code",
   "execution_count": 119,
   "metadata": {},
   "outputs": [
    {
     "name": "stdout",
     "output_type": "stream",
     "text": [
      "(2, 5, 6)\n"
     ]
    }
   ],
   "source": [
    "def add(*args):   #튜플\n",
    "    print(args)\n",
    "add(2,5,6)"
   ]
  },
  {
   "cell_type": "code",
   "execution_count": 120,
   "metadata": {},
   "outputs": [
    {
     "name": "stdout",
     "output_type": "stream",
     "text": [
      "(2, 1)\n"
     ]
    }
   ],
   "source": [
    "add(2,1)"
   ]
  },
  {
   "cell_type": "code",
   "execution_count": 136,
   "metadata": {},
   "outputs": [
    {
     "data": {
      "text/plain": [
       "6"
      ]
     },
     "execution_count": 136,
     "metadata": {},
     "output_type": "execute_result"
    }
   ],
   "source": [
    "def add(*args):\n",
    "    total=0\n",
    "    for i in range(0,len(args)) :\n",
    "        total = total + args[i]\n",
    "    return total\n",
    "add(1,2,3)"
   ]
  },
  {
   "cell_type": "code",
   "execution_count": 137,
   "metadata": {},
   "outputs": [
    {
     "data": {
      "text/plain": [
       "51"
      ]
     },
     "execution_count": 137,
     "metadata": {},
     "output_type": "execute_result"
    }
   ],
   "source": [
    "add(1,3,5,4,5,7,7,8,8,3)"
   ]
  },
  {
   "cell_type": "code",
   "execution_count": 138,
   "metadata": {},
   "outputs": [
    {
     "data": {
      "text/plain": [
       "24"
      ]
     },
     "execution_count": 138,
     "metadata": {},
     "output_type": "execute_result"
    }
   ],
   "source": [
    "add(9,8,7)"
   ]
  },
  {
   "cell_type": "code",
   "execution_count": 139,
   "metadata": {},
   "outputs": [
    {
     "data": {
      "text/plain": [
       "(4, -2, 3)"
      ]
     },
     "execution_count": 139,
     "metadata": {},
     "output_type": "execute_result"
    }
   ],
   "source": [
    "def add_sub(num1,num2):\n",
    "    return num1+num2,num1-num2,num1*num2\n",
    "add_sub(1,3)"
   ]
  },
  {
   "cell_type": "code",
   "execution_count": 141,
   "metadata": {},
   "outputs": [
    {
     "name": "stdout",
     "output_type": "stream",
     "text": [
      "6\n",
      "-2\n",
      "8\n"
     ]
    }
   ],
   "source": [
    "a,b,c=add_sub(2,4)\n",
    "print(a)\n",
    "print(b)\n",
    "print(c)"
   ]
  },
  {
   "cell_type": "code",
   "execution_count": 143,
   "metadata": {},
   "outputs": [
    {
     "data": {
      "text/plain": [
       "9"
      ]
     },
     "execution_count": 143,
     "metadata": {},
     "output_type": "execute_result"
    }
   ],
   "source": [
    "def power_of_N(num, power=2):\n",
    "    return num**power\n",
    "power_of_N(3)"
   ]
  },
  {
   "cell_type": "code",
   "execution_count": 144,
   "metadata": {},
   "outputs": [
    {
     "data": {
      "text/plain": [
       "16"
      ]
     },
     "execution_count": 144,
     "metadata": {},
     "output_type": "execute_result"
    }
   ],
   "source": [
    "power_of_N(2,4)"
   ]
  },
  {
   "cell_type": "code",
   "execution_count": 145,
   "metadata": {},
   "outputs": [
    {
     "data": {
      "text/plain": [
       "8"
      ]
     },
     "execution_count": 145,
     "metadata": {},
     "output_type": "execute_result"
    }
   ],
   "source": [
    "power_of_N(2,power=3)"
   ]
  },
  {
   "cell_type": "code",
   "execution_count": 146,
   "metadata": {},
   "outputs": [
    {
     "name": "stdout",
     "output_type": "stream",
     "text": [
      "{'하나': 1}\n",
      "하나 / 1\n"
     ]
    }
   ],
   "source": [
    "def print_map(**kwargs):\n",
    "    print(kwargs)\n",
    "    for key,value in kwargs.items():\n",
    "        print(key,'/',value)\n",
    "print_map(하나=1)"
   ]
  },
  {
   "cell_type": "code",
   "execution_count": 147,
   "metadata": {},
   "outputs": [
    {
     "name": "stdout",
     "output_type": "stream",
     "text": [
      "{'둘': 2, '셋': 3, '넷': 4}\n",
      "둘 / 2\n",
      "셋 / 3\n",
      "넷 / 4\n"
     ]
    }
   ],
   "source": [
    "print_map(둘=2, 셋=3, 넷=4)"
   ]
  },
  {
   "cell_type": "code",
   "execution_count": null,
   "metadata": {},
   "outputs": [],
   "source": []
  }
 ],
 "metadata": {
  "kernelspec": {
   "display_name": "Python 3",
   "language": "python",
   "name": "python3"
  },
  "language_info": {
   "codemirror_mode": {
    "name": "ipython",
    "version": 3
   },
   "file_extension": ".py",
   "mimetype": "text/x-python",
   "name": "python",
   "nbconvert_exporter": "python",
   "pygments_lexer": "ipython3",
   "version": "3.7.6"
  }
 },
 "nbformat": 4,
 "nbformat_minor": 4
}

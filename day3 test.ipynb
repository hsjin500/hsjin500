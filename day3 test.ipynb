{
 "cells": [
  {
   "cell_type": "markdown",
   "metadata": {},
   "source": [
    "# 문제1 "
   ]
  },
  {
   "cell_type": "code",
   "execution_count": 10,
   "metadata": {},
   "outputs": [
    {
     "name": "stdout",
     "output_type": "stream",
     "text": [
      "'라'글자의 개수는 : 30개 입니다.\n"
     ]
    }
   ],
   "source": [
    "la_song = '''뻔하디 뻔한 그렇게 하는 그럼 놈은 아니에요. 그러네요. 말썽 많지만 순종적인 그런 귀염둥이에요. 예뻐해줘요\n",
    "\n",
    "라~ 라라라라 라라라 라라 라라 라라라~\n",
    "라~ 라라라라 라라라 라라 라라 라라라~'''\n",
    "\n",
    "A1=la_song.count('라')\n",
    "\n",
    "print('\\'라\\'글자의 개수는 : {}개 입니다.'.format(A1))\n"
   ]
  },
  {
   "cell_type": "markdown",
   "metadata": {},
   "source": [
    "# 문제2 "
   ]
  },
  {
   "cell_type": "code",
   "execution_count": 22,
   "metadata": {},
   "outputs": [
    {
     "name": "stdout",
     "output_type": "stream",
     "text": [
      "숫자를 입력하세요 >> 15\n",
      "5의 배수입니다.\n",
      "숫자를 입력하세요 >> 3\n",
      "5의 배수가 아닙니다.\n"
     ]
    }
   ],
   "source": [
    "number = int(input('숫자를 입력하세요 >> ' ))\n",
    "result = '5의 배수입니다.' if number % 5 ==0 else'5의 배수가 아닙니다.'\n",
    "print(result)\n",
    "\n",
    "number = int(input('숫자를 입력하세요 >> ' ))\n",
    "result = '5의 배수입니다.' if number % 5 ==0 else'5의 배수가 아닙니다.'\n",
    "print(result)"
   ]
  },
  {
   "cell_type": "markdown",
   "metadata": {},
   "source": [
    "# 문제3 "
   ]
  },
  {
   "cell_type": "code",
   "execution_count": 44,
   "metadata": {},
   "outputs": [
    {
     "name": "stdout",
     "output_type": "stream",
     "text": [
      "키를 입력하세요(cm) >> 180\n",
      "몸무게를 입력하세요(kg) >> 70\n",
      "당신의 BMI 지수는 21.604938입니다.\n"
     ]
    }
   ],
   "source": [
    "height = int(input('키를 입력하세요(cm) >> '))\n",
    "weight = int(input('몸무게를 입력하세요(kg) >> '))\n",
    "BMI = round(weight/(height**2)*10000,6)\n",
    "print('당신의 BMI 지수는 {}입니다.'.format(BMI))"
   ]
  }
 ],
 "metadata": {
  "kernelspec": {
   "display_name": "Python 3",
   "language": "python",
   "name": "python3"
  },
  "language_info": {
   "codemirror_mode": {
    "name": "ipython",
    "version": 3
   },
   "file_extension": ".py",
   "mimetype": "text/x-python",
   "name": "python",
   "nbconvert_exporter": "python",
   "pygments_lexer": "ipython3",
   "version": "3.7.6"
  }
 },
 "nbformat": 4,
 "nbformat_minor": 4
}
